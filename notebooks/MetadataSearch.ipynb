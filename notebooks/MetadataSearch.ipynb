{
 "cells": [
  {
   "cell_type": "code",
   "execution_count": 2,
   "id": "7c06353a-de63-4451-a1c4-856542d29e31",
   "metadata": {
    "execution": {
     "iopub.execute_input": "2023-11-08T22:32:55.115172Z",
     "iopub.status.busy": "2023-11-08T22:32:55.114963Z",
     "iopub.status.idle": "2023-11-08T22:32:55.162209Z",
     "shell.execute_reply": "2023-11-08T22:32:55.161746Z",
     "shell.execute_reply.started": "2023-11-08T22:32:55.115156Z"
    },
    "tags": []
   },
   "outputs": [],
   "source": [
    "import numpy as np\n",
    "import json\n",
    "data = dict()\n",
    "with open(\"./slac_lsstcam_2023-11-03.json\") as f:\n",
    "    data = json.load(f)\n"
   ]
  },
  {
   "cell_type": "code",
   "execution_count": 8,
   "id": "e3e4b1b7-4731-469c-b02e-01ad960a4fc5",
   "metadata": {
    "execution": {
     "iopub.execute_input": "2023-11-08T22:34:24.089779Z",
     "iopub.status.busy": "2023-11-08T22:34:24.089566Z",
     "iopub.status.idle": "2023-11-08T22:34:24.092673Z",
     "shell.execute_reply": "2023-11-08T22:34:24.092383Z",
     "shell.execute_reply.started": "2023-11-08T22:34:24.089762Z"
    },
    "tags": []
   },
   "outputs": [
    {
     "data": {
      "text/plain": [
       "'bias'"
      ]
     },
     "execution_count": 8,
     "metadata": {},
     "output_type": "execute_result"
    }
   ],
   "source": [
    "data['2']['Test type']\n"
   ]
  },
  {
   "cell_type": "code",
   "execution_count": null,
   "id": "b382bf8a-b4aa-48be-82df-e06875a9581a",
   "metadata": {},
   "outputs": [],
   "source": [
    "for i in range(len(data)):\n",
    "    if 'Mount jitter RMS' in data[str(i+1)].keys()"
   ]
  },
  {
   "cell_type": "code",
   "execution_count": null,
   "id": "83aed369-ec0a-4a01-9dd3-958e6a650f70",
   "metadata": {},
   "outputs": [],
   "source": [
    "d = []\n",
    "counter = 0\n",
    "for i in range(len(data)):\n",
    "    if 'Mount jitter RMS' in data[str(i+1)].keys() and \\\n",
    "        data[str(i+1)]['Image type']=='science' :#and \\\n",
    "        #data[str(i+1)]['Filter']=='SDSSr_65mm':\n",
    "        if  data[str(i+1)]['Mount jitter RMS'] > 0.2:\n",
    "            print(data[str(i+1)]['seqNum'],end=\", \")\n",
    "        else:\n",
    "            counter +=1\n"
   ]
  }
 ],
 "metadata": {
  "kernelspec": {
   "display_name": "LSST",
   "language": "python",
   "name": "lsst"
  },
  "language_info": {
   "codemirror_mode": {
    "name": "ipython",
    "version": 3
   },
   "file_extension": ".py",
   "mimetype": "text/x-python",
   "name": "python",
   "nbconvert_exporter": "python",
   "pygments_lexer": "ipython3",
   "version": "3.11.4"
  }
 },
 "nbformat": 4,
 "nbformat_minor": 5
}
