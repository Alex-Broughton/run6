{
 "cells": [
  {
   "cell_type": "markdown",
   "id": "9b8b208c-ae35-423d-b99d-f4dbc9729c72",
   "metadata": {
    "tags": []
   },
   "source": [
    "# ISR Tests"
   ]
  },
  {
   "cell_type": "code",
   "execution_count": 1,
   "id": "0d785cb0-8862-401c-aea3-ea6320ed0faa",
   "metadata": {
    "execution": {
     "iopub.execute_input": "2023-11-30T17:51:13.680246Z",
     "iopub.status.busy": "2023-11-30T17:51:13.679954Z",
     "iopub.status.idle": "2023-11-30T17:51:14.029653Z",
     "shell.execute_reply": "2023-11-30T17:51:14.028992Z",
     "shell.execute_reply.started": "2023-11-30T17:51:13.680230Z"
    },
    "tags": []
   },
   "outputs": [
    {
     "name": "stdout",
     "output_type": "stream",
     "text": [
      "lsst_distrib          g4213664e8e+da93b84f60 \tcurrent w_2023_37 setup\n"
     ]
    }
   ],
   "source": [
    "! eups list -s | grep lsst_distrib"
   ]
  },
  {
   "cell_type": "code",
   "execution_count": 2,
   "id": "97245a56-4a0b-48c7-8b7f-f91828033f82",
   "metadata": {
    "execution": {
     "iopub.execute_input": "2023-11-30T17:51:14.034813Z",
     "iopub.status.busy": "2023-11-30T17:51:14.034505Z",
     "iopub.status.idle": "2023-11-30T17:51:15.981296Z",
     "shell.execute_reply": "2023-11-30T17:51:15.980815Z",
     "shell.execute_reply.started": "2023-11-30T17:51:14.034801Z"
    },
    "tags": []
   },
   "outputs": [],
   "source": [
    "from lsst.daf.butler import Butler\n",
    "butler = Butler(\"/repo/ir2\")"
   ]
  },
  {
   "cell_type": "code",
   "execution_count": 1,
   "id": "b1d5d7f5-703c-4e7a-80bd-7e29b4134f6d",
   "metadata": {
    "execution": {
     "iopub.execute_input": "2023-11-30T18:39:23.936299Z",
     "iopub.status.busy": "2023-11-30T18:39:23.935943Z",
     "iopub.status.idle": "2023-11-30T18:39:27.840595Z",
     "shell.execute_reply": "2023-11-30T18:39:27.840115Z",
     "shell.execute_reply.started": "2023-11-30T18:39:23.936280Z"
    },
    "tags": []
   },
   "outputs": [],
   "source": [
    "import matplotlib.gridspec as gridspec\n",
    "\n",
    "from lsst.daf.butler import Butler\n",
    "\n",
    "from lsst.obs.lsst import LsstCam\n",
    "import matplotlib.pyplot as pylab\n",
    "import numpy as np\n",
    "import numpy as numpy\n",
    "import matplotlib\n",
    "from astropy.io import fits\n",
    "from matplotlib import colormaps\n",
    "matplotlib.rcParams.update({'font.size': 13})"
   ]
  },
  {
   "cell_type": "code",
   "execution_count": 3,
   "id": "3b6aca75-1555-4867-b520-6cf4b81820b2",
   "metadata": {
    "execution": {
     "iopub.execute_input": "2023-11-30T18:39:59.642692Z",
     "iopub.status.busy": "2023-11-30T18:39:59.642396Z",
     "iopub.status.idle": "2023-11-30T18:40:01.338096Z",
     "shell.execute_reply": "2023-11-30T18:40:01.337578Z",
     "shell.execute_reply.started": "2023-11-30T18:39:59.642678Z"
    },
    "tags": []
   },
   "outputs": [],
   "source": [
    "detector=23\n",
    "butler = Butler(\"/repo/ir2\")\n",
    "registry = butler.registry\n",
    "#registry.refresh()\n",
    "cti=butler.get('cpCtiCalib', instrument='LSSTCam', detector=detector, collections='u/abrought/cti.2023.11.29.DM-41754_and_DM-41911')\n"
   ]
  },
  {
   "cell_type": "code",
   "execution_count": 4,
   "id": "24aa27ba-158f-4c87-a20e-7eb98d03dbd9",
   "metadata": {
    "execution": {
     "iopub.execute_input": "2023-11-30T18:40:01.343219Z",
     "iopub.status.busy": "2023-11-30T18:40:01.343012Z",
     "iopub.status.idle": "2023-11-30T18:40:05.442892Z",
     "shell.execute_reply": "2023-11-30T18:40:05.442396Z",
     "shell.execute_reply.started": "2023-11-30T18:40:01.343200Z"
    },
    "tags": []
   },
   "outputs": [],
   "source": [
    "raw1 = butler.get(\"raw\", instrument=\"LSSTCam\",detector=23,exposure=2023110500198, collections='LSSTCam/raw/all')\n",
    "raw2 = butler.get(\"raw\", instrument=\"LSSTCam\",detector=23,exposure=2023110500199, collections='LSSTCam/raw/all')\n",
    "\n",
    "bias = butler.get(\"bias\", instrument=\"LSSTCam\",detector=23, collections='u/lsstccs/bias_13505_w_2023_41/20231104T221805Z')\n",
    "dark = butler.get(\"dark\", instrument=\"LSSTCam\",detector=23, collections='u/lsstccs/dark_13505_w_2023_41/20231104T222709Z')\n",
    "#flat = butler.get(\"flat\", instrument=\"LSSTCam\",detector=23, physical_filter='ef_43',collections='u/lsstccs/flat_13505_w_2023_41/20231104T223548Z')\n",
    "cti=butler.get('cpCtiCalib', instrument='LSSTCam', detector=23, collections='u/abrought/cti.2023.11.29.DM-41754_and_DM-41911')\n",
    "defect = butler.get(\"defects\", instrument=\"LSSTCam\",detector=23, collections='u/lsstccs/defects_13505_w_2023_41/20231104T224625Z')\n",
    "\n"
   ]
  },
  {
   "cell_type": "code",
   "execution_count": 5,
   "id": "f84314db-bd92-42c7-9ed6-485070016581",
   "metadata": {
    "execution": {
     "iopub.execute_input": "2023-11-30T18:40:05.444268Z",
     "iopub.status.busy": "2023-11-30T18:40:05.444096Z",
     "iopub.status.idle": "2023-11-30T18:40:10.153967Z",
     "shell.execute_reply": "2023-11-30T18:40:10.153437Z",
     "shell.execute_reply.started": "2023-11-30T18:40:05.444254Z"
    },
    "tags": []
   },
   "outputs": [
    {
     "name": "stdout",
     "output_type": "stream",
     "text": [
      "Flat 1\n"
     ]
    },
    {
     "data": {
      "text/html": [
       "<pre style=\"margin: 0.1em;\n",
       "padding-left: 0.25em;\n",
       "border-left-style: solid;\n",
       "font-family: var(--jp-code-font-family);\n",
       "font-size: var(--jp-code-font-size);\n",
       "line-height: var(--jp-code-line-height);\n",
       "\"><span style=\"color: var(--jp-warn-color2)\">lsst.isr</span> <span style=\"color: var(--jp-info-color0)\">INFO</span>: Converting exposure to floating point values.</pre>"
      ],
      "text/plain": [
       "<IPython.core.display.HTML object>"
      ]
     },
     "metadata": {},
     "output_type": "display_data"
    },
    {
     "data": {
      "text/html": [
       "<pre style=\"margin: 0.1em;\n",
       "padding-left: 0.25em;\n",
       "border-left-style: solid;\n",
       "font-family: var(--jp-code-font-family);\n",
       "font-size: var(--jp-code-font-size);\n",
       "line-height: var(--jp-code-line-height);\n",
       "\"><span style=\"color: var(--jp-warn-color2)\">lsst.isr</span> <span style=\"color: var(--jp-info-color0)\">INFO</span>: Assembling CCD from amplifiers.</pre>"
      ],
      "text/plain": [
       "<IPython.core.display.HTML object>"
      ]
     },
     "metadata": {},
     "output_type": "display_data"
    },
    {
     "data": {
      "text/html": [
       "<pre style=\"margin: 0.1em;\n",
       "padding-left: 0.25em;\n",
       "border-left-style: solid;\n",
       "font-family: var(--jp-code-font-family);\n",
       "font-size: var(--jp-code-font-size);\n",
       "line-height: var(--jp-code-line-height);\n",
       "\"><span style=\"color: var(--jp-warn-color2)\">lsst.isr</span> <span style=\"color: var(--jp-warn-color0)\">WARNING</span>: No WCS found in input exposure.</pre>"
      ],
      "text/plain": [
       "<IPython.core.display.HTML object>"
      ]
     },
     "metadata": {},
     "output_type": "display_data"
    },
    {
     "data": {
      "text/html": [
       "<pre style=\"margin: 0.1em;\n",
       "padding-left: 0.25em;\n",
       "border-left-style: solid;\n",
       "font-family: var(--jp-code-font-family);\n",
       "font-size: var(--jp-code-font-size);\n",
       "line-height: var(--jp-code-line-height);\n",
       "\"><span style=\"color: var(--jp-warn-color2)\">lsst.isr</span> <span style=\"color: var(--jp-info-color0)\">INFO</span>: Applying bias correction.</pre>"
      ],
      "text/plain": [
       "<IPython.core.display.HTML object>"
      ]
     },
     "metadata": {},
     "output_type": "display_data"
    },
    {
     "data": {
      "text/html": [
       "<pre style=\"margin: 0.1em;\n",
       "padding-left: 0.25em;\n",
       "border-left-style: solid;\n",
       "font-family: var(--jp-code-font-family);\n",
       "font-size: var(--jp-code-font-size);\n",
       "line-height: var(--jp-code-line-height);\n",
       "\"><span style=\"color: var(--jp-warn-color2)\">lsst.isr</span> <span style=\"color: var(--jp-info-color0)\">INFO</span>: Masking defects.</pre>"
      ],
      "text/plain": [
       "<IPython.core.display.HTML object>"
      ]
     },
     "metadata": {},
     "output_type": "display_data"
    },
    {
     "data": {
      "text/html": [
       "<pre style=\"margin: 0.1em;\n",
       "padding-left: 0.25em;\n",
       "border-left-style: solid;\n",
       "font-family: var(--jp-code-font-family);\n",
       "font-size: var(--jp-code-font-size);\n",
       "line-height: var(--jp-code-line-height);\n",
       "\"><span style=\"color: var(--jp-warn-color2)\">lsst.isr</span> <span style=\"color: var(--jp-info-color0)\">INFO</span>: Masking non-finite (NAN, inf) value pixels.</pre>"
      ],
      "text/plain": [
       "<IPython.core.display.HTML object>"
      ]
     },
     "metadata": {},
     "output_type": "display_data"
    },
    {
     "data": {
      "text/html": [
       "<pre style=\"margin: 0.1em;\n",
       "padding-left: 0.25em;\n",
       "border-left-style: solid;\n",
       "font-family: var(--jp-code-font-family);\n",
       "font-size: var(--jp-code-font-size);\n",
       "line-height: var(--jp-code-line-height);\n",
       "\"><span style=\"color: var(--jp-warn-color2)\">lsst.isr</span> <span style=\"color: var(--jp-info-color0)\">INFO</span>: Widening saturation trails.</pre>"
      ],
      "text/plain": [
       "<IPython.core.display.HTML object>"
      ]
     },
     "metadata": {},
     "output_type": "display_data"
    },
    {
     "data": {
      "text/html": [
       "<pre style=\"margin: 0.1em;\n",
       "padding-left: 0.25em;\n",
       "border-left-style: solid;\n",
       "font-family: var(--jp-code-font-family);\n",
       "font-size: var(--jp-code-font-size);\n",
       "line-height: var(--jp-code-line-height);\n",
       "\"><span style=\"color: var(--jp-warn-color2)\">lsst.isr</span> <span style=\"color: var(--jp-info-color0)\">INFO</span>: Applying gain correction instead of flat.</pre>"
      ],
      "text/plain": [
       "<IPython.core.display.HTML object>"
      ]
     },
     "metadata": {},
     "output_type": "display_data"
    },
    {
     "data": {
      "text/html": [
       "<pre style=\"margin: 0.1em;\n",
       "padding-left: 0.25em;\n",
       "border-left-style: solid;\n",
       "font-family: var(--jp-code-font-family);\n",
       "font-size: var(--jp-code-font-size);\n",
       "line-height: var(--jp-code-line-height);\n",
       "\"><span style=\"color: var(--jp-warn-color2)\">lsst.isr</span> <span style=\"color: var(--jp-info-color0)\">INFO</span>: Applying fringe correction after flat.</pre>"
      ],
      "text/plain": [
       "<IPython.core.display.HTML object>"
      ]
     },
     "metadata": {},
     "output_type": "display_data"
    },
    {
     "data": {
      "text/html": [
       "<pre style=\"margin: 0.1em;\n",
       "padding-left: 0.25em;\n",
       "border-left-style: solid;\n",
       "font-family: var(--jp-code-font-family);\n",
       "font-size: var(--jp-code-font-size);\n",
       "line-height: var(--jp-code-line-height);\n",
       "\"><span style=\"color: var(--jp-warn-color2)\">lsst.isr.fringe</span> <span style=\"color: var(--jp-info-color0)\">INFO</span>: Filter not found in FringeTaskConfig.filters. Skipping fringe correction.</pre>"
      ],
      "text/plain": [
       "<IPython.core.display.HTML object>"
      ]
     },
     "metadata": {},
     "output_type": "display_data"
    },
    {
     "data": {
      "text/html": [
       "<pre style=\"margin: 0.1em;\n",
       "padding-left: 0.25em;\n",
       "border-left-style: solid;\n",
       "font-family: var(--jp-code-font-family);\n",
       "font-size: var(--jp-code-font-size);\n",
       "line-height: var(--jp-code-line-height);\n",
       "\"><span style=\"color: var(--jp-warn-color2)\">lsst.isr</span> <span style=\"color: var(--jp-info-color0)\">INFO</span>: Set 6407 BAD pixels to 15452.674805.</pre>"
      ],
      "text/plain": [
       "<IPython.core.display.HTML object>"
      ]
     },
     "metadata": {},
     "output_type": "display_data"
    },
    {
     "data": {
      "text/html": [
       "<pre style=\"margin: 0.1em;\n",
       "padding-left: 0.25em;\n",
       "border-left-style: solid;\n",
       "font-family: var(--jp-code-font-family);\n",
       "font-size: var(--jp-code-font-size);\n",
       "line-height: var(--jp-code-line-height);\n",
       "\"><span style=\"color: var(--jp-warn-color2)\">lsst.isr</span> <span style=\"color: var(--jp-info-color0)\">INFO</span>: Interpolating masked pixels.</pre>"
      ],
      "text/plain": [
       "<IPython.core.display.HTML object>"
      ]
     },
     "metadata": {},
     "output_type": "display_data"
    },
    {
     "data": {
      "text/html": [
       "<pre style=\"margin: 0.1em;\n",
       "padding-left: 0.25em;\n",
       "border-left-style: solid;\n",
       "font-family: var(--jp-code-font-family);\n",
       "font-size: var(--jp-code-font-size);\n",
       "line-height: var(--jp-code-line-height);\n",
       "\"><span style=\"color: var(--jp-warn-color2)\">lsst.isr</span> <span style=\"color: var(--jp-warn-color0)\">WARNING</span>: No rough magnitude zero point defined for filter ef_43.</pre>"
      ],
      "text/plain": [
       "<IPython.core.display.HTML object>"
      ]
     },
     "metadata": {},
     "output_type": "display_data"
    },
    {
     "data": {
      "text/html": [
       "<pre style=\"margin: 0.1em;\n",
       "padding-left: 0.25em;\n",
       "border-left-style: solid;\n",
       "font-family: var(--jp-code-font-family);\n",
       "font-size: var(--jp-code-font-size);\n",
       "line-height: var(--jp-code-line-height);\n",
       "\"><span style=\"color: var(--jp-warn-color2)\">lsst.isr</span> <span style=\"color: var(--jp-info-color0)\">INFO</span>: Setting rough magnitude zero point for filter ef_43: 30.940228</pre>"
      ],
      "text/plain": [
       "<IPython.core.display.HTML object>"
      ]
     },
     "metadata": {},
     "output_type": "display_data"
    },
    {
     "name": "stdout",
     "output_type": "stream",
     "text": [
      "Flat 2\n"
     ]
    },
    {
     "data": {
      "text/html": [
       "<pre style=\"margin: 0.1em;\n",
       "padding-left: 0.25em;\n",
       "border-left-style: solid;\n",
       "font-family: var(--jp-code-font-family);\n",
       "font-size: var(--jp-code-font-size);\n",
       "line-height: var(--jp-code-line-height);\n",
       "\"><span style=\"color: var(--jp-warn-color2)\">lsst.isr</span> <span style=\"color: var(--jp-info-color0)\">INFO</span>: Converting exposure to floating point values.</pre>"
      ],
      "text/plain": [
       "<IPython.core.display.HTML object>"
      ]
     },
     "metadata": {},
     "output_type": "display_data"
    },
    {
     "data": {
      "text/html": [
       "<pre style=\"margin: 0.1em;\n",
       "padding-left: 0.25em;\n",
       "border-left-style: solid;\n",
       "font-family: var(--jp-code-font-family);\n",
       "font-size: var(--jp-code-font-size);\n",
       "line-height: var(--jp-code-line-height);\n",
       "\"><span style=\"color: var(--jp-warn-color2)\">lsst.isr</span> <span style=\"color: var(--jp-info-color0)\">INFO</span>: Assembling CCD from amplifiers.</pre>"
      ],
      "text/plain": [
       "<IPython.core.display.HTML object>"
      ]
     },
     "metadata": {},
     "output_type": "display_data"
    },
    {
     "data": {
      "text/html": [
       "<pre style=\"margin: 0.1em;\n",
       "padding-left: 0.25em;\n",
       "border-left-style: solid;\n",
       "font-family: var(--jp-code-font-family);\n",
       "font-size: var(--jp-code-font-size);\n",
       "line-height: var(--jp-code-line-height);\n",
       "\"><span style=\"color: var(--jp-warn-color2)\">lsst.isr</span> <span style=\"color: var(--jp-warn-color0)\">WARNING</span>: No WCS found in input exposure.</pre>"
      ],
      "text/plain": [
       "<IPython.core.display.HTML object>"
      ]
     },
     "metadata": {},
     "output_type": "display_data"
    },
    {
     "data": {
      "text/html": [
       "<pre style=\"margin: 0.1em;\n",
       "padding-left: 0.25em;\n",
       "border-left-style: solid;\n",
       "font-family: var(--jp-code-font-family);\n",
       "font-size: var(--jp-code-font-size);\n",
       "line-height: var(--jp-code-line-height);\n",
       "\"><span style=\"color: var(--jp-warn-color2)\">lsst.isr</span> <span style=\"color: var(--jp-info-color0)\">INFO</span>: Applying bias correction.</pre>"
      ],
      "text/plain": [
       "<IPython.core.display.HTML object>"
      ]
     },
     "metadata": {},
     "output_type": "display_data"
    },
    {
     "data": {
      "text/html": [
       "<pre style=\"margin: 0.1em;\n",
       "padding-left: 0.25em;\n",
       "border-left-style: solid;\n",
       "font-family: var(--jp-code-font-family);\n",
       "font-size: var(--jp-code-font-size);\n",
       "line-height: var(--jp-code-line-height);\n",
       "\"><span style=\"color: var(--jp-warn-color2)\">lsst.isr</span> <span style=\"color: var(--jp-info-color0)\">INFO</span>: Masking defects.</pre>"
      ],
      "text/plain": [
       "<IPython.core.display.HTML object>"
      ]
     },
     "metadata": {},
     "output_type": "display_data"
    },
    {
     "data": {
      "text/html": [
       "<pre style=\"margin: 0.1em;\n",
       "padding-left: 0.25em;\n",
       "border-left-style: solid;\n",
       "font-family: var(--jp-code-font-family);\n",
       "font-size: var(--jp-code-font-size);\n",
       "line-height: var(--jp-code-line-height);\n",
       "\"><span style=\"color: var(--jp-warn-color2)\">lsst.isr</span> <span style=\"color: var(--jp-info-color0)\">INFO</span>: Masking non-finite (NAN, inf) value pixels.</pre>"
      ],
      "text/plain": [
       "<IPython.core.display.HTML object>"
      ]
     },
     "metadata": {},
     "output_type": "display_data"
    },
    {
     "data": {
      "text/html": [
       "<pre style=\"margin: 0.1em;\n",
       "padding-left: 0.25em;\n",
       "border-left-style: solid;\n",
       "font-family: var(--jp-code-font-family);\n",
       "font-size: var(--jp-code-font-size);\n",
       "line-height: var(--jp-code-line-height);\n",
       "\"><span style=\"color: var(--jp-warn-color2)\">lsst.isr</span> <span style=\"color: var(--jp-info-color0)\">INFO</span>: Widening saturation trails.</pre>"
      ],
      "text/plain": [
       "<IPython.core.display.HTML object>"
      ]
     },
     "metadata": {},
     "output_type": "display_data"
    },
    {
     "data": {
      "text/html": [
       "<pre style=\"margin: 0.1em;\n",
       "padding-left: 0.25em;\n",
       "border-left-style: solid;\n",
       "font-family: var(--jp-code-font-family);\n",
       "font-size: var(--jp-code-font-size);\n",
       "line-height: var(--jp-code-line-height);\n",
       "\"><span style=\"color: var(--jp-warn-color2)\">lsst.isr</span> <span style=\"color: var(--jp-info-color0)\">INFO</span>: Applying gain correction instead of flat.</pre>"
      ],
      "text/plain": [
       "<IPython.core.display.HTML object>"
      ]
     },
     "metadata": {},
     "output_type": "display_data"
    },
    {
     "data": {
      "text/html": [
       "<pre style=\"margin: 0.1em;\n",
       "padding-left: 0.25em;\n",
       "border-left-style: solid;\n",
       "font-family: var(--jp-code-font-family);\n",
       "font-size: var(--jp-code-font-size);\n",
       "line-height: var(--jp-code-line-height);\n",
       "\"><span style=\"color: var(--jp-warn-color2)\">lsst.isr</span> <span style=\"color: var(--jp-info-color0)\">INFO</span>: Applying fringe correction after flat.</pre>"
      ],
      "text/plain": [
       "<IPython.core.display.HTML object>"
      ]
     },
     "metadata": {},
     "output_type": "display_data"
    },
    {
     "data": {
      "text/html": [
       "<pre style=\"margin: 0.1em;\n",
       "padding-left: 0.25em;\n",
       "border-left-style: solid;\n",
       "font-family: var(--jp-code-font-family);\n",
       "font-size: var(--jp-code-font-size);\n",
       "line-height: var(--jp-code-line-height);\n",
       "\"><span style=\"color: var(--jp-warn-color2)\">lsst.isr.fringe</span> <span style=\"color: var(--jp-info-color0)\">INFO</span>: Filter not found in FringeTaskConfig.filters. Skipping fringe correction.</pre>"
      ],
      "text/plain": [
       "<IPython.core.display.HTML object>"
      ]
     },
     "metadata": {},
     "output_type": "display_data"
    },
    {
     "data": {
      "text/html": [
       "<pre style=\"margin: 0.1em;\n",
       "padding-left: 0.25em;\n",
       "border-left-style: solid;\n",
       "font-family: var(--jp-code-font-family);\n",
       "font-size: var(--jp-code-font-size);\n",
       "line-height: var(--jp-code-line-height);\n",
       "\"><span style=\"color: var(--jp-warn-color2)\">lsst.isr</span> <span style=\"color: var(--jp-info-color0)\">INFO</span>: Set 6407 BAD pixels to 15453.576172.</pre>"
      ],
      "text/plain": [
       "<IPython.core.display.HTML object>"
      ]
     },
     "metadata": {},
     "output_type": "display_data"
    },
    {
     "data": {
      "text/html": [
       "<pre style=\"margin: 0.1em;\n",
       "padding-left: 0.25em;\n",
       "border-left-style: solid;\n",
       "font-family: var(--jp-code-font-family);\n",
       "font-size: var(--jp-code-font-size);\n",
       "line-height: var(--jp-code-line-height);\n",
       "\"><span style=\"color: var(--jp-warn-color2)\">lsst.isr</span> <span style=\"color: var(--jp-info-color0)\">INFO</span>: Interpolating masked pixels.</pre>"
      ],
      "text/plain": [
       "<IPython.core.display.HTML object>"
      ]
     },
     "metadata": {},
     "output_type": "display_data"
    },
    {
     "data": {
      "text/html": [
       "<pre style=\"margin: 0.1em;\n",
       "padding-left: 0.25em;\n",
       "border-left-style: solid;\n",
       "font-family: var(--jp-code-font-family);\n",
       "font-size: var(--jp-code-font-size);\n",
       "line-height: var(--jp-code-line-height);\n",
       "\"><span style=\"color: var(--jp-warn-color2)\">lsst.isr</span> <span style=\"color: var(--jp-warn-color0)\">WARNING</span>: No rough magnitude zero point defined for filter ef_43.</pre>"
      ],
      "text/plain": [
       "<IPython.core.display.HTML object>"
      ]
     },
     "metadata": {},
     "output_type": "display_data"
    },
    {
     "data": {
      "text/html": [
       "<pre style=\"margin: 0.1em;\n",
       "padding-left: 0.25em;\n",
       "border-left-style: solid;\n",
       "font-family: var(--jp-code-font-family);\n",
       "font-size: var(--jp-code-font-size);\n",
       "line-height: var(--jp-code-line-height);\n",
       "\"><span style=\"color: var(--jp-warn-color2)\">lsst.isr</span> <span style=\"color: var(--jp-info-color0)\">INFO</span>: Setting rough magnitude zero point for filter ef_43: 30.940228</pre>"
      ],
      "text/plain": [
       "<IPython.core.display.HTML object>"
      ]
     },
     "metadata": {},
     "output_type": "display_data"
    },
    {
     "name": "stdout",
     "output_type": "stream",
     "text": [
      "Done.\n"
     ]
    }
   ],
   "source": [
    "from lsst.ip.isr.isrTask import IsrTask\n",
    "\n",
    "config = IsrTask.ConfigClass()\n",
    "config.doDark = False\n",
    "config.doBias = True\n",
    "config.doFlat = False\n",
    "config.doDefect = True\n",
    "config.doOverscan = True\n",
    "config.overscan.fitType = \"MEDIAN\"\n",
    "config.doLinearize=False\n",
    "config.doDeferredCharge=False\n",
    "config.doBrighterFatter=False\n",
    "config.doApplyGains=True\n",
    "isrtask = IsrTask(config=config) # default configuration\n",
    "detector=23\n",
    "\n",
    "print(\"Flat 1\")\n",
    "flat1 = isrtask.run(raw1, camera=LsstCam.getCamera(),\n",
    "            deferredChargeCalib=cti,\n",
    "            defects=defect,\n",
    "            bias=bias,\n",
    "            detectorNum=23)\n",
    "\n",
    "print(\"Flat 2\")\n",
    "flat2 = isrtask.run(raw2, camera=LsstCam.getCamera(),\n",
    "            deferredChargeCalib=cti,\n",
    "            defects=defect,\n",
    "            bias=bias,\n",
    "            detectorNum=23)\n",
    "print(\"Done.\")"
   ]
  },
  {
   "cell_type": "code",
   "execution_count": 6,
   "id": "4bdcba5f-4da2-43f0-bbac-c1c4bbae4cf0",
   "metadata": {
    "execution": {
     "iopub.execute_input": "2023-11-30T18:40:10.154824Z",
     "iopub.status.busy": "2023-11-30T18:40:10.154694Z",
     "iopub.status.idle": "2023-11-30T18:40:10.172794Z",
     "shell.execute_reply": "2023-11-30T18:40:10.172433Z",
     "shell.execute_reply.started": "2023-11-30T18:40:10.154812Z"
    },
    "tags": []
   },
   "outputs": [],
   "source": [
    "def cov_direct_value(diff ,w, dx,dy):\n",
    "    (ncols,nrows) = diff.shape\n",
    "    if dy>=0 :\n",
    "        im1 = diff[dy:, dx:]\n",
    "        w1 = w[dy:, dx:]\n",
    "        im2 = diff[:ncols-dy, :nrows-dx]\n",
    "        w2=w[:ncols-dy, :nrows-dx]\n",
    "    else:\n",
    "        im1 = diff[:ncols+dy, dx:]\n",
    "        w1 = w[:ncols+dy, dx:]\n",
    "        im2 = diff[-dy:, :nrows-dx]\n",
    "        w2 = w[-dy:, :nrows-dx]\n",
    "    w_all = w1*w2\n",
    "    npix = w_all.sum()\n",
    "    im1_times_w = im1*w_all\n",
    "    s1 = im1_times_w.sum()/npix\n",
    "    s2 = (im2*w_all).sum()/npix\n",
    "    p = (im1_times_w*im2).sum()/npix\n",
    "    cov = p-s1*s2\n",
    "    return cov,npix\n",
    "\n",
    "def compute_cov(diff, w, fft_shape, maxrange) :\n",
    "    \"\"\"\n",
    "    diff : image to compute the covariance of\n",
    "    w : weights (0 or 1) of the pixels of diff\n",
    "    fft_shape : the actual shape of the DFTs\n",
    "    maxrange: last index of the covariance to be computed\n",
    "    returns cov[maxrange, maxrange], npix[maxrange,maxrange]\n",
    "    \"\"\"\n",
    "    assert(fft_shape[0]>diff.shape[0]+maxrange)\n",
    "    assert(fft_shape[1]>diff.shape[1]+maxrange)\n",
    "    # for some reason related to numpy.fft.rfftn,\n",
    "    # the second dimension should be even, so\n",
    "    my_fft_shape = fft_shape\n",
    "    if fft_shape[1] %2 == 1 :\n",
    "        my_fft_shape = (fft_shape[0], fft_shape[1]+1)\n",
    "    # FFT of the image\n",
    "    tim = np.fft.rfft2(diff*w, my_fft_shape)\n",
    "    # FFT of the mask\n",
    "    tmask = np.fft.rfft2(w, my_fft_shape)\n",
    "    # three inverse transforms:\n",
    "    pcov = np.fft.irfft2(tim*tim.conjugate())\n",
    "    pmean= np.fft.irfft2(tim*tmask.conjugate())\n",
    "    pcount= np.fft.irfft2(tmask*tmask.conjugate())\n",
    "    # now evaluate covariances and numbers of \"active\" pixels\n",
    "    cov = np.ndarray((maxrange,maxrange))\n",
    "    npix = np.zeros_like(cov)\n",
    "    for dx in range(maxrange) :\n",
    "        for dy in range(maxrange) :\n",
    "            # compensate rounding errors\n",
    "            npix1 = int(round(pcount[dy,dx]))\n",
    "            cov1 = pcov[dy,dx]/npix1-pmean[dy,dx]*pmean[-dy,-dx]/(npix1*npix1)\n",
    "            if (dx == 0 or dy == 0):\n",
    "                cov[dy,dx] = cov1\n",
    "                npix[dy,dx] = npix1\n",
    "                continue\n",
    "            npix2 = int(round(pcount[-dy,dx]))\n",
    "            cov2 = pcov[-dy,dx]/npix2-pmean[-dy,dx]*pmean[dy,-dx]/(npix2*npix2)\n",
    "            cov[dy,dx] = 0.5*(cov1+cov2)\n",
    "            npix[dy,dx] = npix1+npix2\n",
    "    return cov,npix\n",
    "\n",
    "\n",
    "def measureMeanVarCov(f1, f2):\n",
    "    \"\"\"Calculate the mean of each of two exposures and the variance\n",
    "    and covariance of their difference. The variance is calculated\n",
    "    via afwMath, and the covariance via the methods in Astier+19\n",
    "    (appendix A). In theory, var = covariance[0,0]. This should\n",
    "    be validated, and in the future, we may decide to just keep\n",
    "    one (covariance).\n",
    "\n",
    "    Parameters\n",
    "    ----------\n",
    "    im1Area : `lsst.afw.image.maskedImage.MaskedImageF`\n",
    "        Masked image from exposure 1.\n",
    "    im2Area : `lsst.afw.image.maskedImage.MaskedImageF`\n",
    "        Masked image from exposure 2.\n",
    "    imStatsCtrl : `lsst.afw.math.StatisticsControl`\n",
    "        Statistics control object.\n",
    "    mu1: `float`\n",
    "        Clipped mean of im1Area (ADU).\n",
    "    mu2: `float`\n",
    "        Clipped mean of im2Area (ADU).\n",
    "\n",
    "    Returns\n",
    "    -------\n",
    "    mu : `float` or `NaN`\n",
    "        0.5*(mu1 + mu2), where mu1, and mu2 are the clipped means\n",
    "        of the regions in both exposures. If either mu1 or m2 are\n",
    "        NaN's, the returned value is NaN.\n",
    "    varDiff : `float` or `NaN`\n",
    "        Half of the clipped variance of the difference of the\n",
    "        regions inthe two input exposures. If either mu1 or m2 are\n",
    "        NaN's, the returned value is NaN.\n",
    "    covDiffAstier : `list` or `NaN`\n",
    "        List with tuples of the form (dx, dy, var, cov, npix), where:\n",
    "            dx : `int`\n",
    "                Lag in x\n",
    "            dy : `int`\n",
    "                Lag in y\n",
    "            var : `float`\n",
    "                Variance at (dx, dy).\n",
    "            cov : `float`\n",
    "                Covariance at (dx, dy).\n",
    "            nPix : `int`\n",
    "                Number of pixel pairs used to evaluate var and cov.\n",
    "\n",
    "        If either mu1 or m2 are NaN's, the returned value is NaN.\n",
    "    \"\"\"\n",
    "    \n",
    "    #h1 = fits.open(f1)\n",
    "    #h2 = fits.open(f2)\n",
    "    mu1 = np.mean(f1.image.array)\n",
    "    mu2 = np.mean(f2.image.array)\n",
    "    mu = 0.5*(mu1 + mu2)\n",
    "    #h1.close()\n",
    "    #h2.close()\n",
    "    \n",
    "    import lsst.afw.math as afwMath\n",
    "    #from lsst.afw.image.maskedImage import MaskedImageF\n",
    "    from lsst.cp.pipe.utils import (arrangeFlatsByExpTime, arrangeFlatsByExpId,\n",
    "                                arrangeFlatsByExpFlux, sigmaClipCorrection,\n",
    "                                CovFastFourierTransform)\n",
    "    \n",
    "    # Take difference of pairs\n",
    "    # symmetric formula: diff = (mu2*im1-mu1*im2)/(0.5*(mu1+mu2))\n",
    "    \n",
    "    im1Area = f1.getMaskedImage()\n",
    "    im2Area = f2.getMaskedImage()\n",
    "    \n",
    "    temp = im2Area.clone()\n",
    "    temp *= mu1\n",
    "    diffIm = im1Area.clone()\n",
    "    diffIm *= mu2\n",
    "    diffIm -= temp\n",
    "    diffIm /= mu\n",
    "    \n",
    "    imMaskVal = im1Area.getMask().getPlaneBitMask(['SUSPECT', 'BAD', 'NO_DATA', 'SAT'])\n",
    "    imStatsCtrl = afwMath.StatisticsControl(5.5, 3, imMaskVal)\n",
    "\n",
    "    # Variance calculation via afwMath\n",
    "    varDiff = 0.5*(afwMath.makeStatistics(diffIm, afwMath.VARIANCECLIP, imStatsCtrl).getValue())\n",
    "    \n",
    "    # Covariances calculations\n",
    "    # Get the pixels that were not clipped\n",
    "    varClip = afwMath.makeStatistics(diffIm, afwMath.VARIANCECLIP, imStatsCtrl).getValue()\n",
    "    meanClip = afwMath.makeStatistics(diffIm, afwMath.MEANCLIP, imStatsCtrl).getValue()\n",
    "    cut = meanClip + 5.5*np.sqrt(varClip)\n",
    "    unmasked = np.where(np.fabs(diffIm.image.array) <= cut, 1, 0)\n",
    "\n",
    "    # Get the pixels in the mask planes of the difference image\n",
    "    # that were ignored by the clipping algorithm\n",
    "    wDiff = np.where(diffIm.getMask().getArray() == 0, 1, 0)\n",
    "    # Combine the two sets of pixels ('1': use; '0': don't use)\n",
    "    # into a final weight matrix to be used in the covariance\n",
    "    # calculations below.\n",
    "    w = unmasked*wDiff\n",
    "\n",
    "    maxRangeCov = 8\n",
    "\n",
    "    # Calculate covariances via FFT.\n",
    "    shapeDiff = np.array(diffIm.image.array.shape)\n",
    "    # Calculate the sizes of FFT dimensions.\n",
    "    s = shapeDiff + maxRangeCov\n",
    "    tempSize = np.array(np.log(s)/np.log(2.)).astype(int)\n",
    "    fftSize = np.array(2**(tempSize+1)).astype(int)\n",
    "    fftShape = (fftSize[0], fftSize[1])\n",
    "    c = CovFastFourierTransform(diffIm.image.array, w, fftShape, maxRangeCov)\n",
    "\n",
    "    # np.sum(w) is the same as npix[0][0] returned in covDiffAstier\n",
    "    try:\n",
    "        covDiffAstier = c.reportCovFastFourierTransform(maxRangeCov)\n",
    "    except ValueError:\n",
    "        # This is raised if there are not enough pixels.\n",
    "        print(\"Not enough pixels covering the requested covariance range in x/y (%d)\", 8)\n",
    "        return np.nan, np.nan, None\n",
    "\n",
    "    # Compare Cov[0,0] and afwMath.VARIANCECLIP covDiffAstier[0]\n",
    "    # is the Cov[0,0] element, [3] is the variance, and there's a\n",
    "    # factor of 0.5 difference with afwMath.VARIANCECLIP.\n",
    "    thresholdPercentage = 1\n",
    "    fractionalDiff = 100*np.fabs(1 - varDiff/(covDiffAstier[0][3]*0.5))\n",
    "    if fractionalDiff >= thresholdPercentage:\n",
    "        print(\"Absolute fractional difference between afwMatch.VARIANCECLIP and Cov[0,0] \"\n",
    "                         \"is more than %f%%: %f\", thresholdPercentage, fractionalDiff)\n",
    "\n",
    "    return mu, varDiff, covDiffAstier\n",
    "\n",
    "def makeCovArray(inputTuple, maxRangeFromTuple=8):\n",
    "        \"\"\"Make covariances array from tuple.\n",
    "\n",
    "        Parameters\n",
    "        ----------\n",
    "        inputTuple : `numpy.ndarray`\n",
    "            Structured array with rows with at least\n",
    "            (mu, afwVar, cov, var, i, j, npix), where:\n",
    "            mu : `float`\n",
    "                0.5*(m1 + m2), where mu1 is the mean value of flat1\n",
    "                and mu2 is the mean value of flat2.\n",
    "            afwVar : `float`\n",
    "                Variance of difference flat, calculated with afw.\n",
    "            cov : `float`\n",
    "                Covariance value at lag(i, j)\n",
    "            var : `float`\n",
    "                Variance(covariance value at lag(0, 0))\n",
    "            i : `int`\n",
    "                Lag in dimension \"x\".\n",
    "            j : `int`\n",
    "                Lag in dimension \"y\".\n",
    "            npix : `int`\n",
    "                Number of pixels used for covariance calculation.\n",
    "        maxRangeFromTuple : `int`\n",
    "            Maximum range to select from tuple.\n",
    "\n",
    "        Returns\n",
    "        -------\n",
    "        cov : `numpy.array`\n",
    "            Covariance arrays, indexed by mean signal mu.\n",
    "        vCov : `numpy.array`\n",
    "            Variance of the [co]variance arrays, indexed by mean signal mu.\n",
    "        muVals : `numpy.array`\n",
    "            List of mean signal values.\n",
    "        \"\"\"\n",
    "        if maxRangeFromTuple is not None:\n",
    "            cut = (inputTuple['i'] < maxRangeFromTuple) & (inputTuple['j'] < maxRangeFromTuple)\n",
    "            cutTuple = inputTuple[cut]\n",
    "        else:\n",
    "            cutTuple = inputTuple\n",
    "        # increasing mu order, so that we can group measurements with the\n",
    "        # same mu\n",
    "        muTemp = cutTuple['mu']\n",
    "        ind = np.argsort(muTemp)\n",
    "\n",
    "        cutTuple = cutTuple[ind]\n",
    "        # should group measurements on the same image pairs(same average)\n",
    "        mu = cutTuple['mu']\n",
    "        xx = np.hstack(([mu[0]], mu))\n",
    "        delta = xx[1:] - xx[:-1]\n",
    "        steps, = np.where(delta > 0)\n",
    "        ind = np.zeros_like(mu, dtype=int)\n",
    "        ind[steps] = 1\n",
    "        ind = np.cumsum(ind)  # this acts as an image pair index.\n",
    "        # now fill the 3-d cov array(and variance)\n",
    "        muVals = np.array(np.unique(mu))\n",
    "        i = cutTuple['i'].astype(int)\n",
    "        j = cutTuple['j'].astype(int)\n",
    "        c = 0.5*cutTuple['cov']\n",
    "        n = cutTuple['npix']\n",
    "        v = 0.5*cutTuple['var']\n",
    "        # book and fill\n",
    "        cov = np.ndarray((len(muVals), np.max(i)+1, np.max(j)+1))\n",
    "        var = np.zeros_like(cov)\n",
    "        cov[ind, i, j] = c\n",
    "        var[ind, i, j] = v**2/n\n",
    "        var[:, 0, 0] *= 2  # var(v) = 2*v**2/N\n",
    "\n",
    "        return cov, var, muVals\n",
    "\n",
    "def getCovArray(muDiff, varDiff, covAstier):\n",
    "    # Turn the tuples with the measured information\n",
    "    # into covariance arrays.\n",
    "    # covrow: (i, j, var (cov[0,0]), cov, npix)\n",
    "    \n",
    "    tags = [('mu', '<f8'), ('afwVar', '<f8'), ('cov', '<f8'), ('var', '<f8'), ('i', '<i8'), ('j', '<i8'), ('npix', '<i8')]\n",
    "    \n",
    "    tupleRows = [(mu, varDiff, c, v, i, j, n) for (i,j,v,c,n) in covAstier]\n",
    "    tempStructArray = np.array(tupleRows, dtype=tags)\n",
    "\n",
    "    covArray, vcov, _ = makeCovArray(tempStructArray)\n",
    "    covSqrtWeights = np.nan_to_num(1./np.sqrt(vcov))\n",
    "    \n",
    "    return covArray[0], covSqrtWeights[0]\n",
    "\n",
    "def fit_chi2_ndof(mus,data, model,covSqrtWeights):\n",
    "    \"\"\"\n",
    "    returns the array of chi2/ndof contributions indexed by i and j \n",
    "    \"\"\"\n",
    "\n",
    "    #w = np.ones(ptc.covariancesSqrtWeights[amp][mask3].shape)\n",
    "    mask_exps = (mus > 10000.)\n",
    "    w = (covSqrtWeights[mask_exps])**2\n",
    "    mask = (w != 0)\n",
    "    ndof = mask.sum(axis=0)-2\n",
    "    # for 0,0, count-3 is more accurate:\n",
    "    ndof[0,0] -= 1\n",
    "    for i in range(ndof.shape[0]):\n",
    "        for j in range(ndof.shape[1]):\n",
    "            if not i==0 and not j==0:\n",
    "                ndof[i][j] *= 2\n",
    "\n",
    "    chi2_ndof = (((model[mask_exps]-data[mask_exps])**2)*w).sum(axis=0)/ndof\n",
    "\n",
    "    chi2_ndof[np.isnan(chi2_ndof)] = -0.1\n",
    "\n",
    "    return chi2_ndof\n",
    "\n",
    "def getC(flat1,flat2)\n",
    "    camera = LsstCam.getCamera()\n",
    "    detector = camera.get(23)\n",
    "    amps = detector.getAmplifiers()\n",
    "    ampNames = [_.getName() for _ in amps]\n",
    "    amp = amps[ampNames==\"C00\"]\n",
    "    ampRegion = amp.getBBox().erodedBy(10)\n",
    "    \n",
    "    flat1_ = flat1.exposure.getCutout(ampRegion)\n",
    "    flat2_ = flat2.exposure.getCutout(ampRegion)\n",
    "    \n",
    "    mu, varDiff, covDiffAstier = measureMeanVarCov(flat1_, flat2_)\n",
    "    C,covSqrtWeights = getCovArray(mu, varDiff, covDiffAstier)\n",
    "    \n",
    "    return mu, varDiff, covDiffAstier, C, covSqrtWeights\n"
   ]
  },
  {
   "cell_type": "code",
   "execution_count": 7,
   "id": "be76c29d-80ad-4641-9ebb-90a2cd644ce2",
   "metadata": {
    "execution": {
     "iopub.execute_input": "2023-11-30T18:40:10.173415Z",
     "iopub.status.busy": "2023-11-30T18:40:10.173294Z",
     "iopub.status.idle": "2023-11-30T18:40:10.177579Z",
     "shell.execute_reply": "2023-11-30T18:40:10.177230Z",
     "shell.execute_reply.started": "2023-11-30T18:40:10.173403Z"
    },
    "tags": []
   },
   "outputs": [],
   "source": []
  },
  {
   "cell_type": "code",
   "execution_count": 8,
   "id": "faf471e3-2b9b-4ea0-97ff-a2d264b159ea",
   "metadata": {
    "execution": {
     "iopub.execute_input": "2023-11-30T18:40:10.178308Z",
     "iopub.status.busy": "2023-11-30T18:40:10.178044Z",
     "iopub.status.idle": "2023-11-30T18:40:10.186929Z",
     "shell.execute_reply": "2023-11-30T18:40:10.186452Z",
     "shell.execute_reply.started": "2023-11-30T18:40:10.178295Z"
    },
    "tags": []
   },
   "outputs": [],
   "source": [
    "flat1_ = flat1.exposure.getCutout(ampRegion)\n",
    "flat2_ = flat2.exposure.getCutout(ampRegion)"
   ]
  },
  {
   "cell_type": "code",
   "execution_count": 9,
   "id": "b36182e9-22a2-4cd8-8071-71e39b65665d",
   "metadata": {
    "execution": {
     "iopub.execute_input": "2023-11-30T18:40:10.211729Z",
     "iopub.status.busy": "2023-11-30T18:40:10.211609Z",
     "iopub.status.idle": "2023-11-30T18:40:10.547189Z",
     "shell.execute_reply": "2023-11-30T18:40:10.546693Z",
     "shell.execute_reply.started": "2023-11-30T18:40:10.211719Z"
    },
    "tags": []
   },
   "outputs": [],
   "source": [
    "mu, varDiff, covDiffAstier = measureMeanVarCov(flat1_, flat2_)\n",
    "C,covSqrtWeights = getCovArray(mu, varDiff, covDiffAstier)\n"
   ]
  },
  {
   "cell_type": "code",
   "execution_count": 10,
   "id": "9354e344-e77b-41d1-8121-f7680483d9f4",
   "metadata": {
    "execution": {
     "iopub.execute_input": "2023-11-30T18:40:10.549228Z",
     "iopub.status.busy": "2023-11-30T18:40:10.548530Z",
     "iopub.status.idle": "2023-11-30T18:40:10.552472Z",
     "shell.execute_reply": "2023-11-30T18:40:10.552040Z",
     "shell.execute_reply.started": "2023-11-30T18:40:10.549213Z"
    },
    "tags": []
   },
   "outputs": [
    {
     "data": {
      "text/plain": [
       "6.0656349155416754e-05"
      ]
     },
     "execution_count": 10,
     "metadata": {},
     "output_type": "execute_result"
    }
   ],
   "source": [
    "C[0][0]/mu**2"
   ]
  },
  {
   "cell_type": "code",
   "execution_count": null,
   "id": "fe474609-dc4d-4066-846d-67c1412819e4",
   "metadata": {},
   "outputs": [],
   "source": []
  }
 ],
 "metadata": {
  "kernelspec": {
   "display_name": "LSST",
   "language": "python",
   "name": "lsst"
  },
  "language_info": {
   "codemirror_mode": {
    "name": "ipython",
    "version": 3
   },
   "file_extension": ".py",
   "mimetype": "text/x-python",
   "name": "python",
   "nbconvert_exporter": "python",
   "pygments_lexer": "ipython3",
   "version": "3.11.4"
  }
 },
 "nbformat": 4,
 "nbformat_minor": 5
}
